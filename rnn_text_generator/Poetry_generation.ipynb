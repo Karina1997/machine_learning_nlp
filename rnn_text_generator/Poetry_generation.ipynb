{
  "nbformat": 4,
  "nbformat_minor": 0,
  "metadata": {
    "anaconda-cloud": {},
    "kernelspec": {
      "display_name": "Python 3",
      "language": "python",
      "name": "python3"
    },
    "language_info": {
      "codemirror_mode": {
        "name": "ipython",
        "version": 3
      },
      "file_extension": ".py",
      "mimetype": "text/x-python",
      "name": "python",
      "nbconvert_exporter": "python",
      "pygments_lexer": "ipython3",
      "version": "3.7.4"
    },
    "colab": {
      "name": "Poetry_generation.ipynb",
      "provenance": [],
      "collapsed_sections": []
    },
    "accelerator": "GPU"
  },
  "cells": [
    {
      "cell_type": "markdown",
      "metadata": {
        "id": "H4OnJmQsSACV",
        "colab_type": "text"
      },
      "source": [
        "## Homework №2"
      ]
    },
    {
      "cell_type": "markdown",
      "metadata": {
        "id": "tarW3rnxSACX",
        "colab_type": "text"
      },
      "source": [
        "### Almost Shakespeare\n",
        "\n",
        "Let's try to generate some Shakespeare poetry using RNNs. The sonnets file is available in the notebook directory.\n",
        "\n",
        "Text generation can be designed in several steps:\n",
        "    \n",
        "1. Data loading.\n",
        "2. Dictionary generation.\n",
        "3. Data preprocessing.\n",
        "4. Model (neural network) training.\n",
        "5. Text generation (model evaluation).\n"
      ]
    },
    {
      "cell_type": "markdown",
      "metadata": {
        "id": "2jlAloRYSACY",
        "colab_type": "text"
      },
      "source": [
        "### Data loading"
      ]
    },
    {
      "cell_type": "markdown",
      "metadata": {
        "id": "0HdZsTkXSACZ",
        "colab_type": "text"
      },
      "source": [
        "Shakespeare sonnets are awailable at this [link](http://www.gutenberg.org/ebooks/1041?msg=welcome_stranger). In addition, they are stored in the same directory as this notebook (`sonnetes.txt`).\n",
        "\n",
        "Simple preprocessing is already done for you in the next cell: all technical info is dropped."
      ]
    },
    {
      "cell_type": "markdown",
      "metadata": {
        "id": "WCJVRHyFg9i4",
        "colab_type": "text"
      },
      "source": [
        ""
      ]
    },
    {
      "cell_type": "code",
      "metadata": {
        "id": "tMw-pC2XSACa",
        "colab_type": "code",
        "colab": {}
      },
      "source": [
        "import string"
      ],
      "execution_count": 0,
      "outputs": []
    },
    {
      "cell_type": "code",
      "metadata": {
        "id": "z2PJ7tMTSACl",
        "colab_type": "code",
        "outputId": "741d7efe-e961-453e-c28f-0caed755dd27",
        "colab": {
          "base_uri": "https://localhost:8080/",
          "height": 204
        }
      },
      "source": [
        "try:\n",
        "    with open('../../datasets/Shakespeare_sonnets/sonnets.txt', 'r') as iofile:\n",
        "        text = iofile.readlines()\n",
        "except FileNotFoundError:\n",
        "    !wget https://raw.githubusercontent.com/neychev/made_nlp_course/master/datasets/Shakespeare_sonnets/sonnets.txt -nc\n",
        "    with open('sonnets.txt', 'r') as iofile:\n",
        "        text = iofile.readlines()"
      ],
      "execution_count": 0,
      "outputs": [
        {
          "output_type": "stream",
          "text": [
            "--2020-04-30 10:29:38--  https://raw.githubusercontent.com/neychev/made_nlp_course/master/datasets/Shakespeare_sonnets/sonnets.txt\n",
            "Resolving raw.githubusercontent.com (raw.githubusercontent.com)... 151.101.0.133, 151.101.64.133, 151.101.128.133, ...\n",
            "Connecting to raw.githubusercontent.com (raw.githubusercontent.com)|151.101.0.133|:443... connected.\n",
            "HTTP request sent, awaiting response... 200 OK\n",
            "Length: 119747 (117K) [text/plain]\n",
            "Saving to: ‘sonnets.txt’\n",
            "\n",
            "\rsonnets.txt           0%[                    ]       0  --.-KB/s               \rsonnets.txt         100%[===================>] 116.94K  --.-KB/s    in 0.01s   \n",
            "\n",
            "2020-04-30 10:29:39 (9.00 MB/s) - ‘sonnets.txt’ saved [119747/119747]\n",
            "\n"
          ],
          "name": "stdout"
        }
      ]
    },
    {
      "cell_type": "code",
      "metadata": {
        "id": "qM0HGkWISACt",
        "colab_type": "code",
        "colab": {}
      },
      "source": [
        "TEXT_START = 45\n",
        "TEXT_END = -368\n",
        "text = text[TEXT_START : TEXT_END]\n",
        "assert len(text) == 2616"
      ],
      "execution_count": 0,
      "outputs": []
    },
    {
      "cell_type": "markdown",
      "metadata": {
        "id": "ikLojxY1SAC0",
        "colab_type": "text"
      },
      "source": [
        "In opposite to the in-class practice, this time we want to predict complex text. Let's reduce the complexity of the task and lowercase all the symbols.\n",
        "\n",
        "Now variable `text` is a list of strings. Join all the strings into one and lowercase it."
      ]
    },
    {
      "cell_type": "code",
      "metadata": {
        "id": "HtZKZKD8SAC1",
        "colab_type": "code",
        "outputId": "ac382cf0-cca1-4d39-e88f-2bf48df9124c",
        "colab": {
          "base_uri": "https://localhost:8080/",
          "height": 34
        }
      },
      "source": [
        "text = [x.lower() for x in text]\n",
        "\n",
        "text = ''.join(text)\n",
        "\n",
        "assert len(text) == 100225, 'Are you sure you have concatenated all the strings?'\n",
        "assert not any([x in set(text) for x in string.ascii_uppercase]), 'Uppercase letters are present'\n",
        "print('OK!')"
      ],
      "execution_count": 0,
      "outputs": [
        {
          "output_type": "stream",
          "text": [
            "OK!\n"
          ],
          "name": "stdout"
        }
      ]
    },
    {
      "cell_type": "markdown",
      "metadata": {
        "id": "dbvxRsX1SAC6",
        "colab_type": "text"
      },
      "source": [
        "Put all the characters, that you've seen in the text, into variable `tokens`."
      ]
    },
    {
      "cell_type": "code",
      "metadata": {
        "id": "AMsEuAFCSAC7",
        "colab_type": "code",
        "colab": {}
      },
      "source": [
        "tokens = sorted(set(text))"
      ],
      "execution_count": 0,
      "outputs": []
    },
    {
      "cell_type": "markdown",
      "metadata": {
        "id": "VmAGNDwxSAC9",
        "colab_type": "text"
      },
      "source": [
        "Create dictionary `token_to_idx = {<char>: <index>}` and dictionary `idx_to_token = {<index>: <char>}`"
      ]
    },
    {
      "cell_type": "code",
      "metadata": {
        "id": "iObkbhI5SAC-",
        "colab_type": "code",
        "colab": {}
      },
      "source": [
        "# dict <index>:<char>\n",
        "# Your great code here\n",
        "\n",
        "token_to_idx = dict((x, i) for i, x in enumerate(tokens))\n",
        "\n",
        "idx_to_token = dict((y, x) for (x, y) in token_to_idx.items())\n",
        "# dict <char>:<index>\n",
        "# Your great code here"
      ],
      "execution_count": 0,
      "outputs": []
    },
    {
      "cell_type": "code",
      "metadata": {
        "id": "ZbNbIXYxT6H7",
        "colab_type": "code",
        "outputId": "16bfff53-8bd5-4615-bd25-9f9f765017c7",
        "colab": {
          "base_uri": "https://localhost:8080/",
          "height": 34
        }
      },
      "source": [
        "dict_size = len(token_to_idx)\n",
        "dict_size"
      ],
      "execution_count": 0,
      "outputs": [
        {
          "output_type": "execute_result",
          "data": {
            "text/plain": [
              "38"
            ]
          },
          "metadata": {
            "tags": []
          },
          "execution_count": 8
        }
      ]
    },
    {
      "cell_type": "markdown",
      "metadata": {
        "id": "xvsdm-XqSADA",
        "colab_type": "text"
      },
      "source": [
        "*Comment: in this task we have only 38 different tokens, so let's use one-hot encoding.*"
      ]
    },
    {
      "cell_type": "markdown",
      "metadata": {
        "id": "wi0N5d3CSADA",
        "colab_type": "text"
      },
      "source": [
        "### Building the model"
      ]
    },
    {
      "cell_type": "markdown",
      "metadata": {
        "id": "9Um5iIyMSADC",
        "colab_type": "text"
      },
      "source": [
        "Now we want to build and train recurrent neural net which would be able to something similar to Shakespeare's poetry.\n",
        "\n",
        "Let's use vanilla RNN, similar to the one created during the lesson."
      ]
    },
    {
      "cell_type": "code",
      "metadata": {
        "id": "VoamgcEdTrlO",
        "colab_type": "code",
        "colab": {}
      },
      "source": [
        "import torch\n",
        "from torch import nn\n",
        "import torch.optim as optim\n",
        "import os\n",
        "import numpy as np\n",
        "import matplotlib.pyplot as plt\n",
        "from IPython.display import clear_output\n",
        "import torch.nn.functional as F\n",
        "%matplotlib inline"
      ],
      "execution_count": 0,
      "outputs": []
    },
    {
      "cell_type": "code",
      "metadata": {
        "id": "z2pYlI1a22TK",
        "colab_type": "code",
        "outputId": "28ad2544-ae3b-478d-bc54-6d2e09ce9fec",
        "colab": {
          "base_uri": "https://localhost:8080/",
          "height": 34
        }
      },
      "source": [
        "device = torch.device(\"cuda\") if torch.cuda.is_available() else torch.device(\"cpu\")\n",
        "device"
      ],
      "execution_count": 0,
      "outputs": [
        {
          "output_type": "execute_result",
          "data": {
            "text/plain": [
              "device(type='cuda')"
            ]
          },
          "metadata": {
            "tags": []
          },
          "execution_count": 11
        }
      ]
    },
    {
      "cell_type": "code",
      "metadata": {
        "id": "ZS-MSYZK2b5G",
        "colab_type": "code",
        "colab": {}
      },
      "source": [
        "def to_DataLoader_for_emb_new(text, seq_len, token_to_idx, batch_size):\n",
        "  target = text[1:]\n",
        "  but_text = []\n",
        "  for i in range(len(text) // seq_len):\n",
        "    but_text.append([torch.tensor(text[i*seq_len:(i+1)*seq_len], dtype=torch.long), torch.tensor(target[i*seq_len:(i+1)*seq_len], dtype=torch.long)])\n",
        "\n",
        "  trainloader = torch.utils.data.DataLoader(but_text, shuffle=False, batch_size=batch_size)\n",
        "  return trainloader"
      ],
      "execution_count": 0,
      "outputs": []
    },
    {
      "cell_type": "code",
      "metadata": {
        "id": "34b47WcoTrqm",
        "colab_type": "code",
        "colab": {}
      },
      "source": [
        "class SimpleRNN(nn.Module):\n",
        "    def __init__(self, input_size, hidden_dim, emb_dim, n_layers=1):\n",
        "      super(SimpleRNN, self).__init__()\n",
        "\n",
        "      self.hid_dim = hidden_dim\n",
        "      self.emb_dim = emb_dim\n",
        "\n",
        "      self.emb = nn.Embedding(input_size,\n",
        "                              emb_dim)\n",
        "      \n",
        "      self.out = nn.Linear(\n",
        "          in_features=hidden_dim, \n",
        "          out_features=input_size) \n",
        "            \n",
        "      self.rnn = nn.GRU(\n",
        "            input_size=emb_dim,\n",
        "            hidden_size=hidden_dim, \n",
        "            batch_first=True\n",
        "        )\n",
        "        \n",
        "    def forward(self, input, hidden):\n",
        "        if (len(input.shape) == 1):\n",
        "          input = input.unsqueeze(0)\n",
        "        \n",
        "        input_sized = self.emb(input)\n",
        "\n",
        "        output, hidden = self.rnn(input_sized, hidden)\n",
        "        prediction = self.out(output)\n",
        "\n",
        "        return prediction, hidden\n",
        "\n",
        "    def initial_state(self, batch_size, device):\n",
        "        \"\"\" return rnn state before it processes first input (aka h0) \"\"\"\n",
        "        return torch.zeros(1, batch_size, self.hid_dim, requires_grad=True,  device=device)\n",
        "\n",
        "\n",
        "class RnnLSTM(nn.Module):\n",
        "    def __init__(self, input_size, hidden_dim,  emb_dim, n_layers=1):\n",
        "      super(RnnLSTM, self).__init__()\n",
        "\n",
        "      self.hid_dim = hidden_dim\n",
        "\n",
        "      self.emb = nn.Embedding(input_size,\n",
        "                              emb_dim)\n",
        "        \n",
        "      self.rnn = nn.LSTM(\n",
        "            input_size=emb_dim,\n",
        "            hidden_size=hidden_dim,\n",
        "            batch_first=True\n",
        "        )\n",
        "        \n",
        "      self.out = nn.Linear(\n",
        "          in_features=hidden_dim, \n",
        "          out_features=input_size)\n",
        "        \n",
        "    def forward(self, input, hidden):\n",
        "        if (len(input.shape) == 1):\n",
        "          input = input.unsqueeze(0)\n",
        "        \n",
        "        input_sized = self.emb(input)\n",
        "\n",
        "        output, hidden = self.rnn(input_sized, hidden)\n",
        "        prediction = self.out(output)\n",
        "\n",
        "        return prediction, hidden\n",
        "\n",
        "        return prediction, hidden\n",
        "    def initial_state(self, batch_size, device):\n",
        "        \"\"\" return rnn state before it processes first input (aka h0) \"\"\"\n",
        "        return (torch.zeros(1, batch_size, self.hid_dim, requires_grad=True,  device=device), \n",
        "                torch.zeros(1, batch_size, self.hid_dim, requires_grad=True, device=device))"
      ],
      "execution_count": 0,
      "outputs": []
    },
    {
      "cell_type": "code",
      "metadata": {
        "id": "0f6gf-q_SADD",
        "colab_type": "code",
        "colab": {}
      },
      "source": [
        "text_nums = [token_to_idx[x] for x in text]"
      ],
      "execution_count": 0,
      "outputs": []
    },
    {
      "cell_type": "markdown",
      "metadata": {
        "id": "1lHNED6cSADF",
        "colab_type": "text"
      },
      "source": [
        "Plot the loss function (axis X: number of epochs, axis Y: loss function)."
      ]
    },
    {
      "cell_type": "code",
      "metadata": {
        "id": "toWZvmc4SADG",
        "colab_type": "code",
        "colab": {}
      },
      "source": [
        "def train(model, criterion, optimizer, dataloader, batch_size, dict_size, device, n_epochs):\n",
        "    history = []\n",
        "    model = model.to(device)\n",
        "    \n",
        "    model.train()\n",
        "\n",
        "    for epoch in range(n_epochs):\n",
        "        \n",
        "        batch_loss = 0\n",
        "        i = 0\n",
        "\n",
        "        for X, target in dataloader:\n",
        "\n",
        "          hidden = model.initial_state(X.shape[0], device)\n",
        "\n",
        "          X, target = X.to(device), target.to(device)\n",
        "       \n",
        "          optimizer.zero_grad()\n",
        "\n",
        "          output, _ = model(X, hidden)\n",
        "\n",
        "          output = output.to(device)\n",
        "    \n",
        "          loss = criterion(output.contiguous().view(-1, dict_size),\n",
        "                           target.contiguous().view(-1))\n",
        "\n",
        "          batch_loss = batch_loss + loss\n",
        "          i = i + 1\n",
        "\n",
        "          loss.backward(retain_graph=True) # Does backpropagation and calculates gradients\n",
        "          optimizer.step() # Updates the weights accordingly\n",
        "\n",
        "        batch_loss = batch_loss / i\n",
        "\n",
        "        history.append(batch_loss.data.item())\n",
        "        if (epoch) % 10 == 0:\n",
        "            clear_output(True)\n",
        "            plt.plot(history,label='loss')\n",
        "            plt.legend()\n",
        "            plt.show()\n",
        "        \n",
        "        if epoch % 10 == 0:\n",
        "            print('Epoch: {}/{}.............'.format(epoch, n_epochs), end=' ')\n",
        "            print(\"Loss: {:.4f}\".format(batch_loss.item()))\n",
        "    return model"
      ],
      "execution_count": 0,
      "outputs": []
    },
    {
      "cell_type": "code",
      "metadata": {
        "id": "lia04HC37c5f",
        "colab_type": "code",
        "colab": {}
      },
      "source": [
        "EPOCH = 500\n",
        "BATCH_SIZE = 10\n",
        "HIDDEN_DIM = 64\n",
        "MAX_LENGTH = 256\n",
        "SEQ_SIZE = 256\n",
        "EMB_DIM = 38"
      ],
      "execution_count": 0,
      "outputs": []
    },
    {
      "cell_type": "code",
      "metadata": {
        "id": "Wy2uZcJJaWzw",
        "colab_type": "code",
        "outputId": "348b85b4-3928-40c8-9ed7-13c66fb6c14f",
        "colab": {
          "base_uri": "https://localhost:8080/",
          "height": 367
        }
      },
      "source": [
        "dataLoader = to_DataLoader_for_emb_new(text_nums, SEQ_SIZE, token_to_idx, BATCH_SIZE)\n",
        "char_rnn = SimpleRNN(dict_size, HIDDEN_DIM, EMB_DIM)\n",
        "criterion = nn.CrossEntropyLoss()\n",
        "opt =  torch.optim.Adam(char_rnn.parameters(), lr=0.002)\n",
        "train(char_rnn, criterion, opt, dataLoader, BATCH_SIZE, dict_size, device, EPOCH)"
      ],
      "execution_count": 51,
      "outputs": [
        {
          "output_type": "display_data",
          "data": {
            "image/png": "[encoded data removed]",
            "text/plain": [
              "<Figure size 432x288 with 1 Axes>"
            ]
          },
          "metadata": {
            "tags": [],
            "needs_background": "light"
          }
        },
        {
          "output_type": "stream",
          "text": [
            "Epoch: 490/500............. Loss: 1.2920\n"
          ],
          "name": "stdout"
        },
        {
          "output_type": "execute_result",
          "data": {
            "text/plain": [
              "SimpleRNN(\n",
              "  (emb): Embedding(38, 38)\n",
              "  (out): Linear(in_features=64, out_features=38, bias=True)\n",
              "  (rnn): GRU(38, 64, batch_first=True)\n",
              ")"
            ]
          },
          "metadata": {
            "tags": []
          },
          "execution_count": 51
        }
      ]
    },
    {
      "cell_type": "code",
      "metadata": {
        "id": "EYPLe6k4SADI",
        "colab_type": "code",
        "colab": {}
      },
      "source": [
        "def generate_sample(char_rnn, device, seed_phrase=' Hello', max_length=MAX_LENGTH, temperature=1.0):\n",
        "    '''\n",
        "    The function generates text given a phrase of length at least SEQ_LENGTH.\n",
        "    :param seed_phrase: prefix characters. The RNN is asked to continue the phrase\n",
        "    :param max_length: maximum output length, including seed_phrase\n",
        "    :param temperature: coefficient for sampling.  higher temperature produces more chaotic outputs, \n",
        "        smaller temperature converges to the single most likely output.\n",
        "        \n",
        "    Be careful with the model output. This model waits logits (not probabilities/log-probabilities)\n",
        "    of the next symbol.\n",
        "    '''\n",
        "\n",
        "    seed_phrase = seed_phrase.lower()\n",
        "\n",
        "    with torch.no_grad(): \n",
        "      # x_sequence = [to_one_hot(token_to_idx[token]) for token in seed_phrase]\n",
        "      x_sequence = [torch.tensor(token_to_idx[token]).squeeze(0) for token in seed_phrase]\n",
        "      x_sequence = torch.tensor([x_sequence], dtype=torch.int64)\n",
        "      x_sequence = x_sequence.to(device)\n",
        "      hid_state = char_rnn.initial_state(1, device)\n",
        "      \n",
        "      #feed the seed phrase, if any\n",
        "      for i in range(len(seed_phrase) - 1):\n",
        "          out, hid_state = char_rnn(x_sequence[:, i], hid_state)\n",
        "\n",
        "      \n",
        "      #start generating\n",
        "      for _ in range(max_length - len(seed_phrase)):\n",
        "          # print(x_sequence.shape, x_sequence, hid_state.shape)\n",
        "          out, hid_state = char_rnn(x_sequence[:, -1], hid_state)\n",
        "  \n",
        "          # Be really careful here with the model output\n",
        "          p_next = F.softmax(out / temperature, dim=-1).cpu().data.numpy()[0] \n",
        "  \n",
        "          # sample next token and push it back into x_sequence\n",
        "          next_ix = np.random.choice(len(tokens), p=p_next.squeeze(0))\n",
        "          # next_ix = torch.tensor(to_one_hot(next_ix), dtype=torch.int64, device=device).unsqueeze(0)\n",
        "          next_ix = torch.tensor([next_ix], dtype=torch.int64, device=device).unsqueeze(0)\n",
        "          # print(x_sequence.shape, next_ix.shape)\n",
        "          x_sequence = torch.cat([x_sequence, next_ix], dim=1)\n",
        "        \n",
        "        \n",
        "    # return ''.join([from_one_hot(ix, token_to_idx) for ix in x_sequence.cpu().data.numpy()[0]])\n",
        "    return ''.join([idx_to_token[ix] for ix in x_sequence.cpu().data.numpy()[0]])"
      ],
      "execution_count": 0,
      "outputs": []
    },
    {
      "cell_type": "code",
      "metadata": {
        "id": "jBtCb-WCvOzD",
        "colab_type": "code",
        "outputId": "ed4ebd27-ec1c-492e-b4af-d7899d949ea3",
        "colab": {
          "base_uri": "https://localhost:8080/",
          "height": 136
        }
      },
      "source": [
        "print(generate_sample(char_rnn, device, \"Poor soul, the centre of my sinful earth,\", 200, 0.5))"
      ],
      "execution_count": 0,
      "outputs": [
        {
          "output_type": "stream",
          "text": [
            "poor soul, the centre of my sinful earth,\n",
            "  that for my heart that i for my self grow so thy can part!\n",
            "    so most more change the winter, in the mays in thee.\n",
            "\n",
            "  cxii\n",
            "\n",
            "  the better then the cross kil\n"
          ],
          "name": "stdout"
        }
      ]
    },
    {
      "cell_type": "markdown",
      "metadata": {
        "id": "lRWpMFpwSADM",
        "colab_type": "text"
      },
      "source": [
        "### More poetic model\n",
        "\n",
        "Let's use LSTM instead of vanilla RNN and compare the results."
      ]
    },
    {
      "cell_type": "markdown",
      "metadata": {
        "id": "4sGsgOUXSADM",
        "colab_type": "text"
      },
      "source": [
        "Plot the loss function of the number of epochs. Does the final loss become better?"
      ]
    },
    {
      "cell_type": "code",
      "metadata": {
        "id": "ttVvmbAZz9be",
        "colab_type": "code",
        "outputId": "f0fd1c07-9bea-4f13-fc9d-284c84365475",
        "colab": {
          "base_uri": "https://localhost:8080/",
          "height": 367
        }
      },
      "source": [
        "dataLoader = to_DataLoader_for_emb_new(text_nums, SEQ_SIZE, token_to_idx, BATCH_SIZE)\n",
        "char_rnn_lstm = RnnLSTM(dict_size, HIDDEN_DIM, EMB_DIM)\n",
        "criterion = nn.CrossEntropyLoss()\n",
        "opt =  torch.optim.Adam(char_rnn_lstm.parameters(), lr=0.002)\n",
        "train(char_rnn_lstm, criterion, opt, dataLoader, BATCH_SIZE, dict_size, device, EPOCH)"
      ],
      "execution_count": 0,
      "outputs": [
        {
          "output_type": "display_data",
          "data": {
            "image/png": "[encoded data removed]",
            "text/plain": [
              "<Figure size 432x288 with 1 Axes>"
            ]
          },
          "metadata": {
            "tags": [],
            "needs_background": "light"
          }
        },
        {
          "output_type": "stream",
          "text": [
            "Epoch: 490/500............. Loss: 1.1699\n"
          ],
          "name": "stdout"
        },
        {
          "output_type": "execute_result",
          "data": {
            "text/plain": [
              "RnnLSTM(\n",
              "  (emb): Embedding(38, 64)\n",
              "  (rnn): LSTM(64, 64, batch_first=True)\n",
              "  (out): Linear(in_features=64, out_features=38, bias=True)\n",
              ")"
            ]
          },
          "metadata": {
            "tags": []
          },
          "execution_count": 18
        }
      ]
    },
    {
      "cell_type": "code",
      "metadata": {
        "id": "lrOkqNU0TdI9",
        "colab_type": "code",
        "outputId": "79903399-24d9-416b-c62c-4055cf433638",
        "colab": {
          "base_uri": "https://localhost:8080/",
          "height": 153
        }
      },
      "source": [
        "print(generate_sample(char_rnn_lstm, device, \"I loved you, and that love, to die refusing,\", 300, 1.0))"
      ],
      "execution_count": 49,
      "outputs": [
        {
          "output_type": "stream",
          "text": [
            "i loved you, and that love, to die refusing,\n",
            "  or soul the blown call my somed:\n",
            "  no state this a maight thy darm'd,\n",
            "  and such are not rich are beauty's glac\n",
            "  to do that tout in the belang,\n",
            "  and fir, one same a bectith know'st i canverlout\n",
            "  wasten efewers feedis, heave, to then,\n",
            "  and long yidel\n"
          ],
          "name": "stdout"
        }
      ]
    },
    {
      "cell_type": "code",
      "metadata": {
        "id": "Rq2F6R4CJE8v",
        "colab_type": "code",
        "outputId": "bd3bb854-024e-46fe-b955-7ae8a97a710e",
        "colab": {
          "base_uri": "https://localhost:8080/",
          "height": 119
        }
      },
      "source": [
        "print(generate_sample(char_rnn_lstm, device, \"I loved you, and that love, to die refusing,\", 300, 2.0))"
      ],
      "execution_count": 48,
      "outputs": [
        {
          "output_type": "stream",
          "text": [
            "i loved you, and that love, to die refusing,\n",
            "  attelie-acherwbel;' in didd, uljutery,\n",
            "  whis nert, grom'stivail, or-liebd,n sofrwss'd;\n",
            "  pen hin upon cobksfere remoriedgaty cern you;\n",
            "  aifit, ih burieswsy, nor which fake frommely.\n",
            "  for youind old yourien, homif roseve, i've robme; no ahlons he lewn\n"
          ],
          "name": "stdout"
        }
      ]
    },
    {
      "cell_type": "code",
      "metadata": {
        "id": "xa0iGAeyJGcS",
        "colab_type": "code",
        "outputId": "310bfa06-93fd-4499-9b13-400fa59b2378",
        "colab": {
          "base_uri": "https://localhost:8080/",
          "height": 170
        }
      },
      "source": [
        "print(generate_sample(char_rnn_lstm, device, \"I loved you, and that love, to die refusing,\", 300, 0.5))"
      ],
      "execution_count": 47,
      "outputs": [
        {
          "output_type": "stream",
          "text": [
            "i loved you, and that love, to die refusing,\n",
            "  when more to thy bothed hath him the some me.\n",
            "\n",
            "  xl\n",
            "\n",
            "  when have all many to this fairer part,\n",
            "  and love this a form from the world do the heart,\n",
            "  that i the to the self-ey their of thy spotieg part,\n",
            "    as the conceall my still to be the conceard dec\n"
          ],
          "name": "stdout"
        }
      ]
    },
    {
      "cell_type": "code",
      "metadata": {
        "id": "SZgxRIwmJIb9",
        "colab_type": "code",
        "outputId": "55e39deb-1cca-47f7-9fcf-180509b73862",
        "colab": {
          "base_uri": "https://localhost:8080/",
          "height": 136
        }
      },
      "source": [
        "print(generate_sample(char_rnn_lstm, device, \"I loved you, and that love, to die refusing,\", 300, 0.2))"
      ],
      "execution_count": 46,
      "outputs": [
        {
          "output_type": "stream",
          "text": [
            "i loved you, and that love, to die refusing,\n",
            "  and then i stranger that beauty of the strength\n",
            "  and that i am of the state with the strange.\n",
            "    in things in the still the strangely my love's fire to me,\n",
            "  and the to the should i shall i lies,\n",
            "  that i think thou art thou art to the store;\n",
            "  that i\n"
          ],
          "name": "stdout"
        }
      ]
    },
    {
      "cell_type": "code",
      "metadata": {
        "id": "Pf4oo5yHJKWv",
        "colab_type": "code",
        "outputId": "abafd55e-5027-4891-b435-a05b6a6c4b8d",
        "colab": {
          "base_uri": "https://localhost:8080/",
          "height": 136
        }
      },
      "source": [
        "print(generate_sample(char_rnn_lstm, device, \"I loved you, and that love, to die refusing,\", 300, 0.1))"
      ],
      "execution_count": 45,
      "outputs": [
        {
          "output_type": "stream",
          "text": [
            "i loved you, and that love, to die refusing,\n",
            "  and in the to the shall stay, to my love the strange,\n",
            "  and i am of the state shall stay\n",
            "  that the to the shall the constance my heart;\n",
            "  that i the state of thy self the clupt,\n",
            "  to the self-ey the state of thy self the clupt,\n",
            "  to the state of thy se\n"
          ],
          "name": "stdout"
        }
      ]
    },
    {
      "cell_type": "markdown",
      "metadata": {
        "id": "BNQkfJE3SADO",
        "colab_type": "text"
      },
      "source": [
        "Generate text using the trained net with different `temperature` parameter: `[0.1, 0.2, 0.5, 1.0, 2.0]`.\n",
        "\n",
        "Evaluate the results visually, try to interpret them."
      ]
    },
    {
      "cell_type": "markdown",
      "metadata": {
        "id": "95cm5Pkdochi",
        "colab_type": "text"
      },
      "source": [
        "The final loss for LSTM became better, it is predictable behaviour. NN learned more connections and loss became smaller. With smaller temperature, NN better generates real words, but has some problems with stanza structure(depends on strarting line). Maybe because \\n are less popular in train. So NN uses them only with less likelihood. With temperature equals to 2.0 NN generates random symbols. Maybe because of 1 error brings to lots of them."
      ]
    },
    {
      "cell_type": "markdown",
      "metadata": {
        "id": "ad21CbpQSADR",
        "colab_type": "text"
      },
      "source": [
        "### Saving and loading models"
      ]
    },
    {
      "cell_type": "markdown",
      "metadata": {
        "id": "bJgjyFGcSADR",
        "colab_type": "text"
      },
      "source": [
        "Save the model to the disk, then load it and generate text. Examples are available [here](https://pytorch.org/tutorials/beginner/saving_loading_models.html])."
      ]
    },
    {
      "cell_type": "code",
      "metadata": {
        "id": "8CiKKi7eSADR",
        "colab_type": "code",
        "colab": {}
      },
      "source": [
        "torch.save(char_rnn_lstm.state_dict(), 'model')"
      ],
      "execution_count": 0,
      "outputs": []
    },
    {
      "cell_type": "code",
      "metadata": {
        "id": "ZMEIrAAfzCUF",
        "colab_type": "code",
        "colab": {
          "base_uri": "https://localhost:8080/",
          "height": 102
        },
        "outputId": "93a9793a-6c29-487b-ba40-6bfd92aae4c0"
      },
      "source": [
        "model = RnnLSTM(dict_size, HIDDEN_DIM, EMB_DIM)\n",
        "model.load_state_dict(torch.load('model'))\n",
        "model.eval()"
      ],
      "execution_count": 40,
      "outputs": [
        {
          "output_type": "execute_result",
          "data": {
            "text/plain": [
              "RnnLSTM(\n",
              "  (emb): Embedding(38, 64)\n",
              "  (rnn): LSTM(64, 64, batch_first=True)\n",
              "  (out): Linear(in_features=64, out_features=38, bias=True)\n",
              ")"
            ]
          },
          "metadata": {
            "tags": []
          },
          "execution_count": 40
        }
      ]
    },
    {
      "cell_type": "code",
      "metadata": {
        "id": "adjTsSsOr5lX",
        "colab_type": "code",
        "colab": {
          "base_uri": "https://localhost:8080/",
          "height": 238
        },
        "outputId": "3e2ad82c-903a-4c55-b6cc-a63cad6e3869"
      },
      "source": [
        "model = model.to(device)\n",
        "print(generate_sample(model, device, \"I loved you, and that love\", 300, 0.1))"
      ],
      "execution_count": 42,
      "outputs": [
        {
          "output_type": "stream",
          "text": [
            "i loved you, and that love thee for my still.\n",
            "\n",
            "  cxxiii\n",
            "\n",
            "  i have i form of the same,\n",
            "  that i am so fair the state shall still.\n",
            "\n",
            "  cxxxiv\n",
            "\n",
            "  in in the wills the state of thy self the cloud decay\n",
            "  the proud love the state shall stay,\n",
            "  that i am so the state shall stay,\n",
            "  that i the to time the sta\n"
          ],
          "name": "stdout"
        }
      ]
    },
    {
      "cell_type": "markdown",
      "metadata": {
        "id": "H2kMRv9DSADT",
        "colab_type": "text"
      },
      "source": [
        "### References\n",
        "1. <a href='http://karpathy.github.io/2015/05/21/rnn-effectiveness/'> Andrew Karpathy blog post about RNN. </a> \n",
        "There are several examples of genration: Shakespeare texts, Latex formulas, Linux Sourse Code and children names.\n",
        "2. <a href='https://github.com/karpathy/char-rnn'> Repo with char-rnn code </a>\n",
        "3. Cool repo with PyTorch examples: [link](https://github.com/spro/practical-pytorch)"
      ]
    }
  ]
}